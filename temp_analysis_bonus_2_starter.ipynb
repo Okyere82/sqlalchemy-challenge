{
 "cells": [
  {
   "cell_type": "markdown",
   "metadata": {},
   "source": [
    "# Import dependencies"
   ]
  },
  {
   "cell_type": "code",
   "execution_count": 3,
   "metadata": {},
   "outputs": [],
   "source": [
    "from matplotlib import style\n",
    "import matplotlib.pyplot as plt\n",
    "plt.style.use('ggplot')"
   ]
  },
  {
   "cell_type": "code",
   "execution_count": 4,
   "metadata": {},
   "outputs": [],
   "source": [
    "import numpy as np\n",
    "import pandas as pd\n",
    "import datetime as dt"
   ]
  },
  {
   "cell_type": "code",
   "execution_count": 5,
   "metadata": {},
   "outputs": [],
   "source": [
    "# Python SQL toolkit and Object Relational Mapper\n",
    "import sqlalchemy\n",
    "from sqlalchemy.ext.automap import automap_base\n",
    "from sqlalchemy.orm import Session \n",
    "from sqlalchemy import create_engine, func , inspect"
   ]
  },
  {
   "cell_type": "code",
   "execution_count": 6,
   "metadata": {},
   "outputs": [],
   "source": [
    "engine = create_engine(\"sqlite:///Resources/hawaii.sqlite\")"
   ]
  },
  {
   "cell_type": "code",
   "execution_count": 7,
   "metadata": {},
   "outputs": [],
   "source": [
    "# reflect the tables\n",
    "Base=automap_base()\n",
    "Base.prepare(engine, reflect=True)"
   ]
  },
  {
   "cell_type": "code",
   "execution_count": 8,
   "metadata": {},
   "outputs": [
    {
     "data": {
      "text/plain": [
       "['measurement', 'station']"
      ]
     },
     "execution_count": 8,
     "metadata": {},
     "output_type": "execute_result"
    }
   ],
   "source": [
    "# View all of the classes that automap found\n",
    "Base.classes.keys()"
   ]
  },
  {
   "cell_type": "code",
   "execution_count": 9,
   "metadata": {},
   "outputs": [],
   "source": [
    "Station=Base.classes.station\n",
    "Measurement=Base.classes.measurement"
   ]
  },
  {
   "cell_type": "code",
   "execution_count": 10,
   "metadata": {},
   "outputs": [],
   "source": [
    "session=Session(engine)"
   ]
  },
  {
   "cell_type": "markdown",
   "metadata": {},
   "source": [
    "# Connect to database"
   ]
  },
  {
   "cell_type": "code",
   "execution_count": 11,
   "metadata": {},
   "outputs": [],
   "source": [
    "# Connect to sqlite database using SQLAlchemy ORM"
   ]
  },
  {
   "cell_type": "markdown",
   "metadata": {},
   "source": [
    "## Temperature Analysis II"
   ]
  },
  {
   "cell_type": "code",
   "execution_count": 12,
   "metadata": {
    "run_control": {
     "marked": false
    }
   },
   "outputs": [
    {
     "name": "stdout",
     "output_type": "stream",
     "text": [
      "[(62.0, 69.57142857142857, 74.0)]\n"
     ]
    }
   ],
   "source": [
    "def calc_temps(start_date, end_date):\n",
    "    \"\"\"Calculate minimum (TMIN), average (TAVE), and maximum (TMAX) \n",
    "        temperatures for a list of dates.\n",
    "    \n",
    "    Args:\n",
    "        start_date (string): A date string in the format %Y-%m-%d\n",
    "        end_date (string): A date string in the format %Y-%m-%d\n",
    "        \n",
    "    Returns:\n",
    "        TMIN, TAVE, and TMAX\n",
    "    \"\"\"\n",
    "    \n",
    "    # TODO: write a function that meets the requirements specified above\n",
    "    return session.query(func.min(Measurement.tobs), \n",
    "                         func.avg(Measurement.tobs), \n",
    "                         func.max(Measurement.tobs)).filter(Measurement.date >= start_date).filter(Measurement.date <= end_date).all()\n",
    "    \n",
    "    # function usage example\n",
    "print(calc_temps('2012-02-28', '2012-03-05'))"
   ]
  },
  {
   "cell_type": "code",
   "execution_count": 13,
   "metadata": {},
   "outputs": [
    {
     "data": {
      "text/html": [
       "<div>\n",
       "<style scoped>\n",
       "    .dataframe tbody tr th:only-of-type {\n",
       "        vertical-align: middle;\n",
       "    }\n",
       "\n",
       "    .dataframe tbody tr th {\n",
       "        vertical-align: top;\n",
       "    }\n",
       "\n",
       "    .dataframe thead th {\n",
       "        text-align: right;\n",
       "    }\n",
       "</style>\n",
       "<table border=\"1\" class=\"dataframe\">\n",
       "  <thead>\n",
       "    <tr style=\"text-align: right;\">\n",
       "      <th></th>\n",
       "      <th></th>\n",
       "      <th>min_temp</th>\n",
       "      <th>avg_temp</th>\n",
       "      <th>max_temp</th>\n",
       "    </tr>\n",
       "    <tr>\n",
       "      <th>start_date</th>\n",
       "      <th>end_date</th>\n",
       "      <th></th>\n",
       "      <th></th>\n",
       "      <th></th>\n",
       "    </tr>\n",
       "  </thead>\n",
       "  <tbody>\n",
       "    <tr>\n",
       "      <th>2017-08-05</th>\n",
       "      <th>2017-08-15</th>\n",
       "      <td>70.0</td>\n",
       "      <td>79.0</td>\n",
       "      <td>84.0</td>\n",
       "    </tr>\n",
       "  </tbody>\n",
       "</table>\n",
       "</div>"
      ],
      "text/plain": [
       "                       min_temp  avg_temp  max_temp\n",
       "start_date end_date                                \n",
       "2017-08-05 2017-08-15      70.0      79.0      84.0"
      ]
     },
     "execution_count": 13,
     "metadata": {},
     "output_type": "execute_result"
    }
   ],
   "source": [
    "# Using your function, calculate the min, avg, and max for the matching dates\n",
    "# from the previous year\n",
    "start_date='2017-08-05'\n",
    "end_date='2017-08-15'\n",
    "\n",
    "def calc_temps(start_date,end_date):\n",
    "    \n",
    "    return (session.query(func.min(Measurement.tobs), \n",
    "                          func.round(\n",
    "                          func.avg(Measurement.tobs)), \n",
    "                          func.max(Measurement.tobs))\n",
    "                   .filter(Measurement.date >= start_date)\n",
    "                   .filter(Measurement.date <= end_date)\n",
    "                   .all())\n",
    "\n",
    "trip_temp=calc_temps(start_date,end_date)\n",
    "#print(trip_temp)\n",
    "\n",
    "trip_temp_df=pd.DataFrame({'start_date': start_date,\n",
    "                           'end_date': end_date,\n",
    "                           'min_temp': [trip_temp[0][0]],\n",
    "                           'avg_temp': [trip_temp[0][1]],\n",
    "                           'max_temp': [trip_temp[0][2]]\n",
    "                          })\n",
    "trip_temp_df.set_index(['start_date','end_date'],inplace=True)\n",
    "trip_temp_df"
   ]
  },
  {
   "cell_type": "markdown",
   "metadata": {},
   "source": [
    "Trip Average Temperature and Error Bar (YEAR)"
   ]
  },
  {
   "cell_type": "code",
   "execution_count": 14,
   "metadata": {},
   "outputs": [
    {
     "data": {
      "text/plain": [
       "[79]"
      ]
     },
     "execution_count": 14,
     "metadata": {},
     "output_type": "execute_result"
    }
   ],
   "source": [
    "tavg = [int(result[1]) for result in trip_temp[::]]\n",
    "tavg"
   ]
  },
  {
   "cell_type": "code",
   "execution_count": 15,
   "metadata": {},
   "outputs": [
    {
     "data": {
      "text/plain": [
       "[14.0]"
      ]
     },
     "execution_count": 15,
     "metadata": {},
     "output_type": "execute_result"
    }
   ],
   "source": [
    "tmax_tmin=(session.query(func.max(Measurement.tobs) - func.min(Measurement.tobs))\n",
    "                  .filter(Measurement.date >= start_date)\n",
    "                  .filter(Measurement.date <= end_date)\n",
    "                  .all())\n",
    "    \n",
    "ptp=list(np.ravel(tmax_tmin))\n",
    "ptp"
   ]
  },
  {
   "cell_type": "code",
   "execution_count": 25,
   "metadata": {},
   "outputs": [
    {
     "data": {
      "image/png": "[encoded data removed]",
      "text/plain": [
       "<Figure size 288x504 with 1 Axes>"
      ]
     },
     "metadata": {},
     "output_type": "display_data"
    }
   ],
   "source": [
    "# Plot results as a bar chart per instructions in README\n",
    "plt.rcParams['figure.figsize']=(4,7)\n",
    "x_axis = 1\n",
    "x_ticks = 1\n",
    "\n",
    "plt.bar(x_axis,tavg, color='xkcd:teal blue', alpha=0.3, width=0.1,align=\"center\",yerr=ptp[0])\n",
    "plt.xticks(range(x_ticks),[(f'From {start_date} To {end_date}')],fontsize=14,color='black')\n",
    "plt.title('Trip Avg Temperature\\nHonolulu, Hawaii',fontsize=20,pad=40)\n",
    "plt.ylabel('Temperature (F)',fontsize=16,color='black',labelpad=20)\n",
    "plt.yticks(fontsize=14)\n",
    "\n",
    "plt.show()"
   ]
  },
  {
   "cell_type": "markdown",
   "metadata": {},
   "source": [
    "## Daily Rainfall Average"
   ]
  },
  {
   "cell_type": "code",
   "execution_count": 53,
   "metadata": {},
   "outputs": [],
   "source": [
    "# Query rainfall per weather station for previous year, sorted by precipitation\n",
    "# Include station, name, latitude, longitude, and elevation\n",
    "total_prcp_by_st=(session.query(Measurement.station,Station.name,func.sum(Measurement.prcp),\n",
    "                                Station.latitude,Station.longitude,Station.elevation)\n",
    "                         .filter(Measurement.date >= start_date)\n",
    "                         .filter(Measurement.date <= end_date)\n",
    "                         .filter(Measurement.station == Station.station)\n",
    "                         .group_by(Measurement.station)\n",
    "                         .order_by(func.sum(Measurement.prcp)\n",
    "                         .desc())\n",
    "                         .all())"
   ]
  },
  {
   "cell_type": "code",
   "execution_count": 54,
   "metadata": {},
   "outputs": [
    {
     "name": "stdout",
     "output_type": "stream",
     "text": [
      "Daily total rainfall estimates by station for dates between 2017-08-05 and 2017-08-15.\n"
     ]
    },
    {
     "data": {
      "text/html": [
       "<div>\n",
       "<style scoped>\n",
       "    .dataframe tbody tr th:only-of-type {\n",
       "        vertical-align: middle;\n",
       "    }\n",
       "\n",
       "    .dataframe tbody tr th {\n",
       "        vertical-align: top;\n",
       "    }\n",
       "\n",
       "    .dataframe thead th {\n",
       "        text-align: right;\n",
       "    }\n",
       "</style>\n",
       "<table border=\"1\" class=\"dataframe\">\n",
       "  <thead>\n",
       "    <tr style=\"text-align: right;\">\n",
       "      <th></th>\n",
       "      <th>station</th>\n",
       "      <th>name</th>\n",
       "      <th>total_prcp</th>\n",
       "      <th>latitude</th>\n",
       "      <th>longitude</th>\n",
       "      <th>elevation</th>\n",
       "    </tr>\n",
       "  </thead>\n",
       "  <tbody>\n",
       "    <tr>\n",
       "      <th>0</th>\n",
       "      <td>USC00516128</td>\n",
       "      <td>MANOA LYON ARBO 785.2, HI US</td>\n",
       "      <td>1.39</td>\n",
       "      <td>21.33310</td>\n",
       "      <td>-157.80250</td>\n",
       "      <td>152.4</td>\n",
       "    </tr>\n",
       "    <tr>\n",
       "      <th>1</th>\n",
       "      <td>USC00519281</td>\n",
       "      <td>WAIHEE 837.5, HI US</td>\n",
       "      <td>0.38</td>\n",
       "      <td>21.45167</td>\n",
       "      <td>-157.84889</td>\n",
       "      <td>32.9</td>\n",
       "    </tr>\n",
       "    <tr>\n",
       "      <th>2</th>\n",
       "      <td>USC00519523</td>\n",
       "      <td>WAIMANALO EXPERIMENTAL FARM, HI US</td>\n",
       "      <td>0.14</td>\n",
       "      <td>21.33556</td>\n",
       "      <td>-157.71139</td>\n",
       "      <td>19.5</td>\n",
       "    </tr>\n",
       "    <tr>\n",
       "      <th>3</th>\n",
       "      <td>USC00514830</td>\n",
       "      <td>KUALOA RANCH HEADQUARTERS 886.9, HI US</td>\n",
       "      <td>0.11</td>\n",
       "      <td>21.52130</td>\n",
       "      <td>-157.83740</td>\n",
       "      <td>7.0</td>\n",
       "    </tr>\n",
       "    <tr>\n",
       "      <th>4</th>\n",
       "      <td>USC00519397</td>\n",
       "      <td>WAIKIKI 717.2, HI US</td>\n",
       "      <td>0.02</td>\n",
       "      <td>21.27160</td>\n",
       "      <td>-157.81680</td>\n",
       "      <td>3.0</td>\n",
       "    </tr>\n",
       "  </tbody>\n",
       "</table>\n",
       "</div>"
      ],
      "text/plain": [
       "       station                                    name  total_prcp  latitude  \\\n",
       "0  USC00516128            MANOA LYON ARBO 785.2, HI US        1.39  21.33310   \n",
       "1  USC00519281                     WAIHEE 837.5, HI US        0.38  21.45167   \n",
       "2  USC00519523      WAIMANALO EXPERIMENTAL FARM, HI US        0.14  21.33556   \n",
       "3  USC00514830  KUALOA RANCH HEADQUARTERS 886.9, HI US        0.11  21.52130   \n",
       "4  USC00519397                    WAIKIKI 717.2, HI US        0.02  21.27160   \n",
       "\n",
       "   longitude  elevation  \n",
       "0 -157.80250      152.4  \n",
       "1 -157.84889       32.9  \n",
       "2 -157.71139       19.5  \n",
       "3 -157.83740        7.0  \n",
       "4 -157.81680        3.0  "
      ]
     },
     "execution_count": 54,
     "metadata": {},
     "output_type": "execute_result"
    }
   ],
   "source": [
    "print(f'Daily total rainfall estimates by station for dates between {start_date} and {end_date}.')\n",
    "\n",
    "total_prcp_by_st_df=pd.DataFrame(total_prcp_by_st,\n",
    "                                 columns=['station','name',\n",
    "                                          'total_prcp','latitude',\n",
    "                                          'longitude','elevation'])\n",
    "total_prcp_by_st_df"
   ]
  },
  {
   "cell_type": "markdown",
   "metadata": {},
   "source": [
    "## Daily Temperature Normals"
   ]
  },
  {
   "cell_type": "code",
   "execution_count": 59,
   "metadata": {},
   "outputs": [
    {
     "data": {
      "text/plain": [
       "[(62.0, 69.15384615384616, 77.0)]"
      ]
     },
     "execution_count": 59,
     "metadata": {},
     "output_type": "execute_result"
    }
   ],
   "source": [
    "def daily_normals(date):\n",
    "    \"\"\"Calculate Daily Normals.\n",
    "    \n",
    "    Args:\n",
    "        date (str): A date string in the format '%m-%d'\n",
    "        \n",
    "    Returns:\n",
    "        A list of tuples containing the daily normals: tmin, tavg, and tmax\n",
    "    \n",
    "    \"\"\"\n",
    "    \n",
    "    # TODO: write a function that meets the requirements specified above\n",
    "    sel = [func.min(Measurement.tobs), func.avg(Measurement.tobs), func.max(Measurement.tobs)]\n",
    "    return session.query(*sel).filter(func.strftime(\"%m-%d\", Measurement.date) == date).all()\n",
    "    \n",
    "daily_normals(\"01-01\")"
   ]
  },
  {
   "cell_type": "code",
   "execution_count": 61,
   "metadata": {},
   "outputs": [
    {
     "data": {
      "text/plain": [
       "[(69.0, 76.15, 82.0),\n",
       " (67.0, 76.25, 83.0),\n",
       " (71.0, 77.16, 83.0),\n",
       " (68.0, 76.56, 83.0),\n",
       " (69.0, 75.98, 81.0),\n",
       " (65.0, 76.42, 83.0),\n",
       " (67.0, 75.98, 82.0),\n",
       " (67.0, 76.53, 83.0),\n",
       " (71.0, 76.98, 84.0),\n",
       " (71.0, 76.78, 82.0),\n",
       " (69.0, 76.47, 83.0)]"
      ]
     },
     "execution_count": 61,
     "metadata": {},
     "output_type": "execute_result"
    }
   ],
   "source": [
    "# Calculate the daily normals for each day of your trip (inclusive)\n",
    "\n",
    "start_date = '2017-08-01'\n",
    "end_date = '2017-08-07'\n",
    "\n",
    "\n",
    "\n",
    "trip_dates=['08-05','08-06','08-07','08-08','08-09',\n",
    "            '08-10','08-11','08-12','08-13','08-14','08-15']\n",
    "\n",
    "normals=[]\n",
    "    \n",
    "def daily_normals(date):\n",
    "    sel = [func.min(Measurement.tobs), \n",
    "           func.round(func.avg(Measurement.tobs),2), \n",
    "           func.max(Measurement.tobs)]\n",
    "    return session.query(*sel).filter(func.strftime(\"%m-%d\", Measurement.date) == date).all()\n",
    "\n",
    "for i in trip_dates:\n",
    "    normals.append(daily_normals(i)[0])\n",
    "\n",
    "normals"
   ]
  },
  {
   "cell_type": "code",
   "execution_count": 62,
   "metadata": {},
   "outputs": [
    {
     "data": {
      "text/html": [
       "<div>\n",
       "<style scoped>\n",
       "    .dataframe tbody tr th:only-of-type {\n",
       "        vertical-align: middle;\n",
       "    }\n",
       "\n",
       "    .dataframe tbody tr th {\n",
       "        vertical-align: top;\n",
       "    }\n",
       "\n",
       "    .dataframe thead th {\n",
       "        text-align: right;\n",
       "    }\n",
       "</style>\n",
       "<table border=\"1\" class=\"dataframe\">\n",
       "  <thead>\n",
       "    <tr style=\"text-align: right;\">\n",
       "      <th></th>\n",
       "      <th>min_temp</th>\n",
       "      <th>avg_temp</th>\n",
       "      <th>max_temp</th>\n",
       "    </tr>\n",
       "    <tr>\n",
       "      <th>date</th>\n",
       "      <th></th>\n",
       "      <th></th>\n",
       "      <th></th>\n",
       "    </tr>\n",
       "  </thead>\n",
       "  <tbody>\n",
       "    <tr>\n",
       "      <th>08-05</th>\n",
       "      <td>69.0</td>\n",
       "      <td>76.15</td>\n",
       "      <td>82.0</td>\n",
       "    </tr>\n",
       "    <tr>\n",
       "      <th>08-06</th>\n",
       "      <td>67.0</td>\n",
       "      <td>76.25</td>\n",
       "      <td>83.0</td>\n",
       "    </tr>\n",
       "    <tr>\n",
       "      <th>08-07</th>\n",
       "      <td>71.0</td>\n",
       "      <td>77.16</td>\n",
       "      <td>83.0</td>\n",
       "    </tr>\n",
       "    <tr>\n",
       "      <th>08-08</th>\n",
       "      <td>68.0</td>\n",
       "      <td>76.56</td>\n",
       "      <td>83.0</td>\n",
       "    </tr>\n",
       "    <tr>\n",
       "      <th>08-09</th>\n",
       "      <td>69.0</td>\n",
       "      <td>75.98</td>\n",
       "      <td>81.0</td>\n",
       "    </tr>\n",
       "    <tr>\n",
       "      <th>08-10</th>\n",
       "      <td>65.0</td>\n",
       "      <td>76.42</td>\n",
       "      <td>83.0</td>\n",
       "    </tr>\n",
       "    <tr>\n",
       "      <th>08-11</th>\n",
       "      <td>67.0</td>\n",
       "      <td>75.98</td>\n",
       "      <td>82.0</td>\n",
       "    </tr>\n",
       "    <tr>\n",
       "      <th>08-12</th>\n",
       "      <td>67.0</td>\n",
       "      <td>76.53</td>\n",
       "      <td>83.0</td>\n",
       "    </tr>\n",
       "    <tr>\n",
       "      <th>08-13</th>\n",
       "      <td>71.0</td>\n",
       "      <td>76.98</td>\n",
       "      <td>84.0</td>\n",
       "    </tr>\n",
       "    <tr>\n",
       "      <th>08-14</th>\n",
       "      <td>71.0</td>\n",
       "      <td>76.78</td>\n",
       "      <td>82.0</td>\n",
       "    </tr>\n",
       "    <tr>\n",
       "      <th>08-15</th>\n",
       "      <td>69.0</td>\n",
       "      <td>76.47</td>\n",
       "      <td>83.0</td>\n",
       "    </tr>\n",
       "  </tbody>\n",
       "</table>\n",
       "</div>"
      ],
      "text/plain": [
       "       min_temp  avg_temp  max_temp\n",
       "date                               \n",
       "08-05      69.0     76.15      82.0\n",
       "08-06      67.0     76.25      83.0\n",
       "08-07      71.0     77.16      83.0\n",
       "08-08      68.0     76.56      83.0\n",
       "08-09      69.0     75.98      81.0\n",
       "08-10      65.0     76.42      83.0\n",
       "08-11      67.0     75.98      82.0\n",
       "08-12      67.0     76.53      83.0\n",
       "08-13      71.0     76.98      84.0\n",
       "08-14      71.0     76.78      82.0\n",
       "08-15      69.0     76.47      83.0"
      ]
     },
     "execution_count": 62,
     "metadata": {},
     "output_type": "execute_result"
    }
   ],
   "source": [
    "# Load results into a dataframe per README instructions\n",
    "trip_daily_normals_df=pd.DataFrame(normals,columns=['min_temp','avg_temp','max_temp'],\n",
    "                                   index=trip_dates)\n",
    "\n",
    "trip_daily_normals_df.index.name='date'\n",
    "trip_daily_normals_df"
   ]
  },
  {
   "cell_type": "code",
   "execution_count": 63,
   "metadata": {},
   "outputs": [
    {
     "data": {
      "image/png": "[encoded data removed]",
      "text/plain": [
       "<Figure size 792x504 with 1 Axes>"
      ]
     },
     "metadata": {},
     "output_type": "display_data"
    }
   ],
   "source": [
    "# Plot the daily normals as an area plot with `stacked=False`\n",
    "plt.rcParams['figure.figsize']=(11,7)\n",
    "colors=['xkcd:green yellow','xkcd:very light blue','xkcd:deep aqua']\n",
    "trip_daily_normals_df.plot.area(linewidth=5,stacked=False,rot=0,alpha=0.5,color=colors);\n",
    "\n",
    "plt.ylim(-5,100)\n",
    "plt.yticks(size=14)\n",
    "plt.xticks(fontsize=14)\n",
    "plt.xlabel('Date (mm-dd)',fontsize=16,color='black',labelpad=20)\n",
    "plt.ylabel('Temperature (F)',fontsize=16,color='black',labelpad=20)\n",
    "plt.title('Daily Temperature Normals\\nHonolulu, Hawaii',fontsize=20,pad=40)\n",
    "plt.gca().legend(loc='center left', bbox_to_anchor=(1.02, 0.91),shadow=True,borderpad=1);"
   ]
  },
  {
   "cell_type": "markdown",
   "metadata": {},
   "source": [
    "## Close Session"
   ]
  },
  {
   "cell_type": "code",
   "execution_count": 64,
   "metadata": {},
   "outputs": [],
   "source": [
    "session.close()"
   ]
  }
 ],
 "metadata": {
  "kernelspec": {
   "display_name": "Python 3",
   "language": "python",
   "name": "python3"
  },
  "language_info": {
   "codemirror_mode": {
    "name": "ipython",
    "version": 3
   },
   "file_extension": ".py",
   "mimetype": "text/x-python",
   "name": "python",
   "nbconvert_exporter": "python",
   "pygments_lexer": "ipython3",
   "version": "3.8.5"
  },
  "toc": {
   "base_numbering": 1,
   "nav_menu": {},
   "number_sections": true,
   "sideBar": true,
   "skip_h1_title": false,
   "title_cell": "Table of Contents",
   "title_sidebar": "Contents",
   "toc_cell": false,
   "toc_position": {},
   "toc_section_display": true,
   "toc_window_display": false
  },
  "varInspector": {
   "cols": {
    "lenName": 16,
    "lenType": 16,
    "lenVar": 40
   },
   "kernels_config": {
    "python": {
     "delete_cmd_postfix": "",
     "delete_cmd_prefix": "del ",
     "library": "var_list.py",
     "varRefreshCmd": "print(var_dic_list())"
    },
    "r": {
     "delete_cmd_postfix": ") ",
     "delete_cmd_prefix": "rm(",
     "library": "var_list.r",
     "varRefreshCmd": "cat(var_dic_list()) "
    }
   },
   "types_to_exclude": [
    "module",
    "function",
    "builtin_function_or_method",
    "instance",
    "_Feature"
   ],
   "window_display": false
  }
 },
 "nbformat": 4,
 "nbformat_minor": 4
}
